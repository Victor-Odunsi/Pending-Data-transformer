{
 "cells": [
  {
   "cell_type": "code",
   "execution_count": 27,
   "id": "dd63c7e0-e120-43f6-970b-5aaa202d6c1c",
   "metadata": {},
   "outputs": [],
   "source": [
    "import pandas as pd\n",
    "import re\n",
    "\n",
    "def Pending_transformer(filepath, sheet_name = 'Sheet1'):\n",
    "    \n",
    "    df = pd.read_excel(filepath, sheet_name = sheet_name)\n",
    "\n",
    "    df.columns = df.columns.str.strip()\n",
    "    \n",
    "    columns = ['PENDING TEST', 'TEST ORDERED', 'COL DATE', 'STATUS', 'RECEIVED  LOCATION']\n",
    "    df = df[columns]\n",
    "\n",
    "    df.dropna(inplace = True)\n",
    "\n",
    "    df['TEST ORDERED'] = df['TEST ORDERED'].str.strip()\n",
    "    \n",
    "    chem_keys = [\n",
    "        r'U/E+CR', 'UREA', 'LIPASE', 'E/U/CR', 'LIPO', 'FBS', 'GGT', 'CAL', 'PO4', 'LFT', 'SOD', 'CRP', 'LIPOGRAM', 'CREAT', 'S',\n",
    "        'CHOL', 'CKMM', 'CR', 'CKMB', 'POT', 'ELEC', 'ALK', 'UA', 'CPK', 'MAG', 'CRP', 'LDH', 'BILIRUBIN', 'AFP', 'AMYL', 'GLU',\n",
    "        'GLOBULIN', 'TOT PROT', 'ALB', 'GGT', 'ALDOLASE', 'ALT', 'AST', 'TBIL', 'ANION', 'DBIL', 'TRIG', 'IRON', 'CO2', 'URE', 'GLUCOSE',\n",
    "        'VIT', 'ANTI-MULLERIAN', 'TESTO', 'T3', 'T4', 'CA153', 'PSA', 'bHCG', 'QHCG', 'E2', 'FOL', 'PROG', 'FSH', 'LH', 'PROL', 'TSH',\n",
    "        'THY', 'CA125', 'TRANSF', 'SAT', 'FERR', 'CORT', 'AFP', 'CEA', 'CA19-9'\n",
    "    ]\n",
    "\n",
    "    haem_keys = [\n",
    "        'FBC', 'RETIC', 'GENOTYPE', 'BLOOD', 'COOMBS', 'HBAIC', 'ELECT', 'ESR', 'MALARIA', 'RETICULOCYTES', 'APTT', 'PI', 'INR', 'QUANTIFERONE',\n",
    "        'Hct', 'HCT', 'TROPONIN', 'TROPO', 'DIMER', 'PLATELETS', 'NORMOBLASTS', 'CKMB', 'MICROFILARIA'\n",
    "    ]\n",
    "\n",
    "    sero_keys = [\n",
    "        'RPR', 'WIDAL', 'RAPID', 'HIV', 'HEP', r'H.PYLORI', 'HAM', 'bHCG', 'IgM'\n",
    "    ]\n",
    "    \n",
    "    def classify(test_name):\n",
    "        for key in chem_keys:\n",
    "            match = re.search(key, test_name, re.IGNORECASE)\n",
    "            if match:\n",
    "                return 'chemistry'\n",
    "\n",
    "        for key in haem_keys:\n",
    "            match = re.search(key, test_name, re.IGNORECASE)\n",
    "            if match:\n",
    "                return 'haematology'\n",
    "\n",
    "        for key in sero_keys:\n",
    "            match = re.search(key, test_name, re.IGNORECASE)\n",
    "            if match:\n",
    "                return 'serology'\n",
    "\n",
    "        return 'Others'\n",
    "    \n",
    "    df['TEST CATEGORY'] = df['TEST ORDERED'].apply(lambda test: classify(test))\n",
    "    \n",
    "    return df"
   ]
  },
  {
   "cell_type": "code",
   "execution_count": null,
   "id": "65e0cd7b-fec5-41d3-98c8-cee0e273a1cc",
   "metadata": {
    "scrolled": true
   },
   "outputs": [],
   "source": [
    "df = Pending_transformer(r\"C:\\Users\\Odunsi.Victor\\Downloads\\PENDINGS 7TH MAY.xlsx\")\n",
    "df.head()"
   ]
  },
  {
   "cell_type": "code",
   "execution_count": null,
   "id": "47661575-be81-4336-962a-329ffe3f0689",
   "metadata": {
    "scrolled": true
   },
   "outputs": [],
   "source": [
    "df[df['TEST CATEGORY'] == 'Others']['TEST ORDERED'].unique()"
   ]
  },
  {
   "cell_type": "code",
   "execution_count": 20,
   "id": "33f010c1-5e18-4a59-beab-05fe0cfd334d",
   "metadata": {},
   "outputs": [],
   "source": [
    "df.to_excel('pendings excel MAY 7th.xlsx', index = False)"
   ]
  },
  {
   "cell_type": "code",
   "execution_count": 34,
   "id": "f4168f3d-45d0-41bd-bc47-a02fcb43533e",
   "metadata": {},
   "outputs": [
    {
     "name": "stdout",
     "output_type": "stream",
     "text": [
      "C:\\Users\\Odunsi.Victor\\Documents\\Python projects\n"
     ]
    }
   ],
   "source": [
    "import os\n",
    "print(os.getcwd())"
   ]
  },
  {
   "cell_type": "code",
   "execution_count": 15,
   "id": "baf338fd-d54b-4886-95d1-2a5b6eb279c4",
   "metadata": {},
   "outputs": [],
   "source": []
  },
  {
   "cell_type": "code",
   "execution_count": null,
   "id": "2105d74f-f169-4c4d-bde4-605e785ec3e3",
   "metadata": {},
   "outputs": [],
   "source": []
  },
  {
   "cell_type": "code",
   "execution_count": null,
   "id": "2fe1e76e-97ad-4d47-a32e-690d66861851",
   "metadata": {},
   "outputs": [],
   "source": []
  },
  {
   "cell_type": "code",
   "execution_count": null,
   "id": "45123bad-f07b-4314-b20a-b8235bafd2dc",
   "metadata": {},
   "outputs": [],
   "source": []
  },
  {
   "cell_type": "code",
   "execution_count": null,
   "id": "4e6608f5-857b-413c-a062-4723f4df46d8",
   "metadata": {},
   "outputs": [],
   "source": []
  },
  {
   "cell_type": "code",
   "execution_count": null,
   "id": "12407c57-432e-4942-8158-d70ba3481ab3",
   "metadata": {},
   "outputs": [],
   "source": []
  },
  {
   "cell_type": "code",
   "execution_count": null,
   "id": "553e00a7-d5ec-4e63-ad2f-408ea760b5ff",
   "metadata": {},
   "outputs": [],
   "source": []
  },
  {
   "cell_type": "code",
   "execution_count": null,
   "id": "6a0c4813-1033-4ca8-80f9-9bbfc2ba1f25",
   "metadata": {},
   "outputs": [],
   "source": []
  },
  {
   "cell_type": "code",
   "execution_count": null,
   "id": "ef2e33f4-0e70-43b3-8678-83f6a9740135",
   "metadata": {},
   "outputs": [],
   "source": []
  },
  {
   "cell_type": "code",
   "execution_count": null,
   "id": "86554c23-b542-4ab0-9abe-98c9428d27b2",
   "metadata": {},
   "outputs": [],
   "source": []
  },
  {
   "cell_type": "code",
   "execution_count": null,
   "id": "db77c400-01cc-4e10-9ad5-b9292aa118b9",
   "metadata": {},
   "outputs": [],
   "source": []
  },
  {
   "cell_type": "code",
   "execution_count": null,
   "id": "fd0f479c-a3e2-40a1-a926-fdc0ab360adc",
   "metadata": {},
   "outputs": [],
   "source": []
  },
  {
   "cell_type": "code",
   "execution_count": null,
   "id": "c1ef3fc4-9c37-4d91-9185-72f34883c356",
   "metadata": {},
   "outputs": [],
   "source": []
  },
  {
   "cell_type": "code",
   "execution_count": null,
   "id": "78e62ee6-ba71-40db-ad32-7ede5b1acb27",
   "metadata": {},
   "outputs": [],
   "source": []
  },
  {
   "cell_type": "code",
   "execution_count": null,
   "id": "d9514f31-78f3-46c0-9297-61767232958f",
   "metadata": {},
   "outputs": [],
   "source": []
  },
  {
   "cell_type": "code",
   "execution_count": null,
   "id": "94818a42-f390-49e2-b6f5-620e84902192",
   "metadata": {},
   "outputs": [],
   "source": []
  }
 ],
 "metadata": {
  "kernelspec": {
   "display_name": "Python 3 (ipykernel)",
   "language": "python",
   "name": "python3"
  },
  "language_info": {
   "codemirror_mode": {
    "name": "ipython",
    "version": 3
   },
   "file_extension": ".py",
   "mimetype": "text/x-python",
   "name": "python",
   "nbconvert_exporter": "python",
   "pygments_lexer": "ipython3",
   "version": "3.10.9"
  }
 },
 "nbformat": 4,
 "nbformat_minor": 5
}
